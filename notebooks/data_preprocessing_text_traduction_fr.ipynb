{
 "cells": [
  {
   "cell_type": "markdown",
   "metadata": {},
   "source": [
    "## Traduction\n",
    "Accès au dossier du projet sur Google Drive"
   ]
  },
  {
   "cell_type": "code",
   "execution_count": null,
   "metadata": {},
   "outputs": [],
   "source": [
    "import sys\n",
    "import os\n",
    "if 'google.colab' in sys.modules:\n",
    "    from google.colab import drive\n",
    "    drive.mount('/content/drive/', force_remount=True)\n",
    "    %cd drive/MyDrive/nov23_bds_rakuten\n",
    "else:\n",
    "    root_files = os.listdir()\n",
    "    if not \"requirements.txt\" in root_files:\n",
    "        print(\"The jupyter server root should be set to root of git project\")\n",
    "        print(\"If you're on vscode add the following to your settings.json file\")\n",
    "        print('\"jupyter.notebookFileRoot\": \"${workspaceFolder}\"')"
   ]
  },
  {
   "cell_type": "markdown",
   "metadata": {},
   "source": [
    "# Importation des librairies"
   ]
  },
  {
   "cell_type": "code",
   "execution_count": null,
   "metadata": {},
   "outputs": [],
   "source": [
    "!pip install googletrans==4.0.0-rc1\n"
   ]
  },
  {
   "cell_type": "code",
   "execution_count": null,
   "metadata": {},
   "outputs": [],
   "source": [
    "import pandas as pd\n",
    "from googletrans import Translator, LANGUAGES\n",
    "import json\n",
    "import os\n",
    "from requests.exceptions import ReadTimeout"
   ]
  },
  {
   "cell_type": "markdown",
   "metadata": {},
   "source": [
    "Chargement du fichier source \\data\\output\\preprocessing-lang\\X_train_pre.csv"
   ]
  },
  {
   "cell_type": "code",
   "execution_count": null,
   "metadata": {},
   "outputs": [],
   "source": [
    "df = pd.read_csv('output/data-exploration/X_train_pre.csv', index_col=0)\n",
    "print(df.head())\n"
   ]
  },
  {
   "cell_type": "markdown",
   "metadata": {},
   "source": [
    "# Fonction pour traduire le texte en français"
   ]
  },
  {
   "cell_type": "markdown",
   "metadata": {},
   "source": [
    "La fonction envoi une requête à google traduction. Elle doit pouvoir segmenter le texte pour respecter la limite de 5000 caractères."
   ]
  },
  {
   "cell_type": "markdown",
   "metadata": {},
   "source": [
    "Elle doit aussi pouvoir être relancé en cas d'erreur car le traitement peut être très long et le service google peut arrêter de répondre si on dépasse une certaine limite d'utilisation."
   ]
  },
  {
   "cell_type": "markdown",
   "metadata": {},
   "source": [
    "Attention : fonction récursive sur ReadTimeOut!!!"
   ]
  },
  {
   "cell_type": "code",
   "execution_count": null,
   "metadata": {},
   "outputs": [],
   "source": [
    "# Initialiser le traducteur\n",
    "translator = Translator()\n",
    "\n",
    "\n",
    "# Fonction pour traduire le texte\n",
    "def translate_text(df, start_index = 0, save_path = \"output/traduction_fr/translation.json\"):\n",
    "    \"\"\" \n",
    "    Traduit la colonne texte d'un DataFrame vers le français et sauvegarde le résultat dans save_path au fur et à mesure (gestion des refus de google translate)\n",
    "    df : le DataFrame traduit. Doit contenir une colonne 'text' à traduire et 'lang', la langue d'origine (fr, en, de)\n",
    "    start_index : permet de reprendre après une erreur au dernier index traité \n",
    "    save_path : chemin de sauvegarde du fichier de traduction\n",
    "\n",
    "    \"\"\"\n",
    "    translations = {}\n",
    "    # Charger les traductions existantes si le fichier existe\n",
    "    if os.path.exists(save_path):\n",
    "        with open(save_path, \"r\") as file:\n",
    "            translations = json.load(file)\n",
    "\n",
    "    if start_index > len(df):\n",
    "        print(\"Job terminé : Aucune ligne restante à traduire.\")\n",
    "        return\n",
    "        \n",
    "    for i, row in df.iloc[start_index:].iterrows():\n",
    "        try:\n",
    "            if row['lang'] in LANGUAGES and row['lang'] != 'fr':       # Si le code langue est reconnu et différent de en\n",
    "                # Vérifier la longueur du texte et le couper si nécessaire\n",
    "                texte = row['text']\n",
    "                src_lang = row['lang']\n",
    "                if len(texte) > 4000:\n",
    "                    # Couper le texte en morceaux de 4000 caractères\n",
    "                    parts = [texte[i:i+4000] for i in range(0, len(texte), 4000)]\n",
    "                    translated_text = ' '.join([translator.translate(part, src=src_lang, dest='fr').text for part in parts]) #Traduire en fr\n",
    "                else:\n",
    "                    translated_text = translator.translate(texte, src = src_lang, dest = 'fr').text     #Traduire en fr\n",
    "            else:      \n",
    "                translated_text = row['text']  # sinon, ajouter la ligne en l'état\n",
    "            translations[i] = translated_text\n",
    "            # Sauvegarde intermédiaire\n",
    "            with open(save_path, \"w\") as file:\n",
    "                json.dump(translations, file)\n",
    "        except ReadTimeout:\n",
    "            # En cas d'erreur de timeout, recommencer depuis la dernière position sauvegardée\n",
    "            print(f\"ReadTimeout à l'index {i}. Tentative de redémarrage.\")\n",
    "            translate_text(df, start_index = i, save_path = save_path)\n",
    "            break\n",
    "        except AttributeError as e:\n",
    "            # Enregistrer l'index d'erreur et arrêter\n",
    "            print(f\"Erreur à l'index {i}: {e}\")\n",
    "            break\n"
   ]
  },
  {
   "cell_type": "markdown",
   "metadata": {},
   "source": [
    "# Test fonctionnels sur la fonction"
   ]
  },
  {
   "cell_type": "code",
   "execution_count": null,
   "metadata": {},
   "outputs": [],
   "source": [
    "test = pd.DataFrame({\n",
    "  \"index\": [1, 2, 3],\n",
    "  \"texte\": [\"Bonjour\", \"Je teste la fonction\", \"de traduction automatique\"],\n",
    "  \"lang_texte\": [\"fr\", \"fr\", \"fr\"]\n",
    "})\n",
    "\n",
    "\n",
    "# En cas de reprise après erreur\n",
    "# Vérifie s'il existe un fichier de sauvegarde et reprise à partir de l'index le plus élevé\n",
    "try:\n",
    "    translations_dict = pd.read_json(\"transla_test.json\", orient='index')\n",
    "    translations_df = translations_dict.rename(columns={0: 'texte_en'})\n",
    "    translate_text(test, start_index = translations_df.value_counts().sum(), save_path = 'transla_test.json')\n",
    "except (FileNotFoundError, ValueError):\n",
    "    # S'il n'y a pas de fichier ou s'il est vide, commencer depuis le début\n",
    "    translate_text(test, save_path = 'transla_test.json')\n"
   ]
  },
  {
   "cell_type": "code",
   "execution_count": null,
   "metadata": {},
   "outputs": [],
   "source": [
    "translations_dict = pd.read_json(\"transla_test.json\", orient='index')\n",
    "translations_df = translations_dict.rename(columns={0: 'texte_en'})\n",
    "\n",
    "print(translations_df.tail(10))\n",
    "translations_df.value_counts().sum()"
   ]
  },
  {
   "cell_type": "markdown",
   "metadata": {},
   "source": [
    "# Traduire le dataframe df (X_train_pre.csv)"
   ]
  },
  {
   "cell_type": "markdown",
   "metadata": {},
   "source": [
    "Environ 750 lignes / 10 minutes !!!\n",
    "Il y a plus de 84000 lignes -> environ 20h"
   ]
  },
  {
   "cell_type": "code",
   "execution_count": null,
   "metadata": {},
   "outputs": [],
   "source": [
    "# En cas de reprise après erreur\n",
    "# Vérifie s'il existe un fichier de sauvegarde et reprise à partir de l'index le plus élevé\n",
    "try:\n",
    "    translations_dict = pd.read_json(\"output/traduction_fr/translation.json\", orient='index')\n",
    "    translations_df = translations_dict.rename(columns={0: 'text_fr'})\n",
    "    translate_text(df, start_index = translations_df.value_counts().sum(), save_path = 'output/traduction_fr/translation.json')\n",
    "except (FileNotFoundError, ValueError):\n",
    "    # S'il n'y a pas de fichier ou s'il est vide, commencer depuis le début\n",
    "    translate_text(df, save_path = 'output/traduction_fr/translation.json')"
   ]
  },
  {
   "cell_type": "markdown",
   "metadata": {},
   "source": [
    "Charge le fichier généré. \n",
    "Affiche les dernières valeurs de translation.json et le nombre de lignes"
   ]
  },
  {
   "cell_type": "code",
   "execution_count": null,
   "metadata": {},
   "outputs": [],
   "source": [
    "translations_dict = pd.read_json(\"output/traduction_fr/translation.json\", orient='index')\n",
    "translations_df = translations_dict.rename(columns={0: 'texte_fr'})\n",
    "\n",
    "print(translations_df.tail(10))\n",
    "translations_df.value_counts().sum()"
   ]
  },
  {
   "cell_type": "code",
   "execution_count": null,
   "metadata": {},
   "outputs": [],
   "source": [
    "df.iloc[1034,:]['text']"
   ]
  },
  {
   "cell_type": "markdown",
   "metadata": {},
   "source": [
    "# Traduire le dataframe X (X_preprocess_to_trad.csv)"
   ]
  },
  {
   "cell_type": "markdown",
   "metadata": {},
   "source": [
    "Environ  lignes / 10 minutes \n",
    "Il y a plus de 84000 lignes -> environ "
   ]
  },
  {
   "cell_type": "code",
   "execution_count": null,
   "metadata": {},
   "outputs": [],
   "source": [
    "# En cas de reprise après erreur\n",
    "# Vérifie s'il existe un fichier de sauvegarde et reprise à partir de l'index le plus élevé\n",
    "try:\n",
    "    translations_dict = pd.read_json(\"output/data-exploration/translation_X_preprocess_to_trad.json\", orient='index')\n",
    "    translations_X = translations_dict.rename(columns={0: 'texte_en'})\n",
    "    translate_text(X, start_index = translations_X.value_counts().sum(), save_path = 'output/data-exploration/translation_X_preprocess_to_trad.json')\n",
    "except (FileNotFoundError, ValueError):\n",
    "    # S'il n'y a pas de fichier ou s'il est vide, commencer depuis le début\n",
    "    translate_text(X, save_path = 'output/data-exploration/translation_X_preprocess_to_trad.json')"
   ]
  },
  {
   "cell_type": "code",
   "execution_count": null,
   "metadata": {},
   "outputs": [],
   "source": [
    "translations_dict = pd.read_json(\"output/data-exploration/translation_X_preprocess_to_trad.json\", orient='index')\n",
    "translations_df = translations_dict.rename(columns={0: 'texte_en'})\n",
    "\n",
    "print(translations_df.tail(10))\n",
    "translations_df.value_counts().sum()"
   ]
  }
 ],
 "metadata": {
  "kernelspec": {
   "display_name": "base",
   "language": "python",
   "name": "python3"
  },
  "language_info": {
   "codemirror_mode": {
    "name": "ipython",
    "version": 3
   },
   "file_extension": ".py",
   "mimetype": "text/x-python",
   "name": "python",
   "nbconvert_exporter": "python",
   "pygments_lexer": "ipython3",
   "version": "3.9.0"
  }
 },
 "nbformat": 4,
 "nbformat_minor": 2
}
